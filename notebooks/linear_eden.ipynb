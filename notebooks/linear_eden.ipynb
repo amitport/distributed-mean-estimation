{
 "cells": [
  {
   "cell_type": "code",
   "execution_count": 1,
   "metadata": {
    "collapsed": true,
    "pycharm": {
     "name": "#%%\n"
    }
   },
   "outputs": [],
   "source": [
    "%load_ext autoreload\n",
    "%autoreload 2"
   ]
  },
  {
   "cell_type": "code",
   "execution_count": 149,
   "outputs": [],
   "source": [
    "import torch\n",
    "import matplotlib.pyplot as plt\n",
    "import numpy as np\n",
    "from scipy.stats import norm"
   ],
   "metadata": {
    "collapsed": false,
    "pycharm": {
     "name": "#%%\n"
    }
   }
  },
  {
   "cell_type": "code",
   "execution_count": 150,
   "outputs": [],
   "source": [
    "from cmprs.eden.linear import calc_expected_normal_bias_correction, round_to_half_int, DeltaCentroidQuantizer\n"
   ],
   "metadata": {
    "collapsed": false,
    "pycharm": {
     "name": "#%%\n"
    }
   }
  },
  {
   "cell_type": "code",
   "execution_count": 280,
   "outputs": [],
   "source": [
    "has_zero_cluster = False\n",
    "delta = 0.5"
   ],
   "metadata": {
    "collapsed": false,
    "pycharm": {
     "name": "#%%\n"
    }
   }
  },
  {
   "cell_type": "code",
   "execution_count": 281,
   "outputs": [
    {
     "data": {
      "text/plain": "0.9795070093162154"
     },
     "execution_count": 281,
     "metadata": {},
     "output_type": "execute_result"
    }
   ],
   "source": [
    "bias_corr = calc_expected_normal_bias_correction(has_zero_cluster=has_zero_cluster, delta=delta)\n",
    "bias_corr"
   ],
   "metadata": {
    "collapsed": false,
    "pycharm": {
     "name": "#%%\n"
    }
   }
  },
  {
   "cell_type": "code",
   "execution_count": 282,
   "outputs": [],
   "source": [
    "q = DeltaCentroidQuantizer(has_zero_cluster=has_zero_cluster, delta=delta)"
   ],
   "metadata": {
    "collapsed": false,
    "pycharm": {
     "name": "#%%\n"
    }
   }
  },
  {
   "cell_type": "code",
   "execution_count": 283,
   "outputs": [
    {
     "data": {
      "text/plain": "<matplotlib.legend.Legend at 0x2991839f1f0>"
     },
     "execution_count": 283,
     "metadata": {},
     "output_type": "execute_result"
    },
    {
     "data": {
      "text/plain": "<Figure size 432x288 with 1 Axes>",
      "image/png": "[encoded data removed]"
     },
     "metadata": {
      "needs_background": "light"
     },
     "output_type": "display_data"
    }
   ],
   "source": [
    "x = torch.linspace(-3, 3, 3000)\n",
    "round_x = (np.round(x / delta) if has_zero_cluster else round_to_half_int(x / delta)) * delta\n",
    "centroid_round_x = q.to_values(q.assign_clusters(x))\n",
    "corr_round_x = round_x * bias_corr\n",
    "plt.title(f'{has_zero_cluster=} {delta=}')\n",
    "plt.plot(x, norm.pdf(x))\n",
    "plt.plot(x, norm.pdf(round_x), 'g', label='round')\n",
    "plt.plot(x, norm.pdf(centroid_round_x), 'y', label='centroid')\n",
    "plt.plot(x, norm.pdf(corr_round_x), 'g:', label='corrected round')\n",
    "plt.legend()"
   ],
   "metadata": {
    "collapsed": false,
    "pycharm": {
     "name": "#%%\n"
    }
   }
  },
  {
   "cell_type": "code",
   "execution_count": 292,
   "outputs": [],
   "source": [
    "N = 50_000  # of normal samples"
   ],
   "metadata": {
    "collapsed": false,
    "pycharm": {
     "name": "#%%\n"
    }
   }
  },
  {
   "cell_type": "code",
   "execution_count": 293,
   "outputs": [],
   "source": [
    "x = torch.randn(N)"
   ],
   "metadata": {
    "collapsed": false,
    "pycharm": {
     "name": "#%%\n"
    }
   }
  },
  {
   "cell_type": "code",
   "execution_count": 294,
   "outputs": [],
   "source": [
    "centroid_round_x = q.to_values(q.assign_clusters(x))\n",
    "round_x = (np.round(x / delta) if has_zero_cluster else round_to_half_int(x / delta)) * delta"
   ],
   "metadata": {
    "collapsed": false,
    "pycharm": {
     "name": "#%%\n"
    }
   }
  },
  {
   "cell_type": "code",
   "execution_count": 295,
   "outputs": [
    {
     "data": {
      "text/plain": "(tensor([ 0.7345,  0.2448,  2.6949, -0.2448,  0.2448], dtype=torch.float64),\n tensor([ 0.7500,  0.2500,  2.7500, -0.2500,  0.2500]))"
     },
     "execution_count": 295,
     "metadata": {},
     "output_type": "execute_result"
    }
   ],
   "source": [
    "centroid_round_x[:5], round_x[:5]"
   ],
   "metadata": {
    "collapsed": false,
    "pycharm": {
     "name": "#%%\n"
    }
   }
  },
  {
   "cell_type": "code",
   "execution_count": 296,
   "outputs": [],
   "source": [
    "n_vec = torch.arange(1, N + 1)"
   ],
   "metadata": {
    "collapsed": false,
    "pycharm": {
     "name": "#%%\n"
    }
   }
  },
  {
   "cell_type": "code",
   "execution_count": 297,
   "outputs": [],
   "source": [
    "def cum_bias(x1, x2):\n",
    "    # aka mean signed deviation\n",
    "    return torch.cumsum(x1 - x2, dim=0) / n_vec"
   ],
   "metadata": {
    "collapsed": false,
    "pycharm": {
     "name": "#%%\n"
    }
   }
  },
  {
   "cell_type": "code",
   "execution_count": 304,
   "outputs": [],
   "source": [
    "def plot_bias():\n",
    "    start_at = N // 2\n",
    "    end_at = N\n",
    "    plt.title('round/centroids bias')\n",
    "    plt.plot(n_vec[start_at:end_at], cum_bias(centroid_round_x, round_x)[start_at:end_at], 'g', label='no bias correction')\n",
    "    plt.plot(n_vec[start_at:end_at], torch.zeros_like(n_vec)[start_at:end_at], 'y')\n",
    "    plt.plot(n_vec[start_at:end_at], cum_bias(centroid_round_x, round_x * bias_corr)[start_at:end_at], 'g:',\n",
    "             label='with bias correction')\n",
    "    plt.ylabel('Bias (mean deviation)')\n",
    "    plt.xlabel('N')\n",
    "    plt.ylim(-0.0005, 0.0005)\n",
    "    plt.legend()"
   ],
   "metadata": {
    "collapsed": false,
    "pycharm": {
     "name": "#%%\n"
    }
   }
  },
  {
   "cell_type": "code",
   "execution_count": 305,
   "outputs": [
    {
     "data": {
      "text/plain": "<Figure size 432x288 with 1 Axes>",
      "image/png": "[encoded data removed]"
     },
     "metadata": {
      "needs_background": "light"
     },
     "output_type": "display_data"
    }
   ],
   "source": [
    "plot_bias()"
   ],
   "metadata": {
    "collapsed": false,
    "pycharm": {
     "name": "#%%\n"
    }
   }
  }
 ],
 "metadata": {
  "kernelspec": {
   "display_name": "Python 3",
   "language": "python",
   "name": "python3"
  },
  "language_info": {
   "codemirror_mode": {
    "name": "ipython",
    "version": 2
   },
   "file_extension": ".py",
   "mimetype": "text/x-python",
   "name": "python",
   "nbconvert_exporter": "python",
   "pygments_lexer": "ipython2",
   "version": "2.7.6"
  }
 },
 "nbformat": 4,
 "nbformat_minor": 0
}